{
 "cells": [
  {
   "cell_type": "markdown",
   "metadata": {},
   "source": [
    "<table><tr><td><h3>Welcome to the PUNCH Bowl!</H3><p /> (In development)</td></tr></table>\n",
    "The PUNCH Bowl is your online, interactive User Guide to:<li> browse PUNCH data, <li>download data products, <li>access analysis tools, software and methods,  and <li>learn how to use PUNCH data to maximize your science return.<p />\n",
    "The PUNCH Bowl is your access point for PUNCH Recipes: all of the tools, code and routines that optimize the use of PUNCH data and streamline your access. </font><p /> <i>The PUNCH Bowl is maintained and supported by the PUNCH science team, but we welcome and rely on contributions from our users to ensure that everyone is able to easily access all available tools and methods.</i>\n"
   ]
  },
  {
   "cell_type": "markdown",
   "metadata": {},
   "source": [
    "PUNCH User Guide\n",
    "\n",
    "•\tPUNCH Instrument Description(s)\n",
    "-\tthings about orbit, how instrument operates, how data are collected and sampled.  \n",
    "•\tPUNCH Data Products\n",
    "-\tBrowse Products  (how to just take a look and get an idea of what’s going on)\n",
    "-\tQuicklook/Level 0/1 (raw data or slightly processed data)\n",
    "-\tHigher levels:  Advanced/Derived Products  (advanced products that we anticipate most people using\n",
    "-\tData Keywords and Metadata (Where is the information that is needed to analyze the data?  What’s in the header?  What are things called?  Is there additional Metadata that one might need? ) \n",
    "•\tHow to Access PUNCH Data\n",
    "-\tData Query (what’s there?)\n",
    "-\tRetrieving Data \n",
    "•\tPUNCH Analysis Software & Tools\n",
    "-\tHow to manipulate PUNCH data products\n",
    "-\tCommon things people would do with a data product \n",
    "-\tlots of examples & recipes\n",
    "•\tPUNCH Calibration\n",
    "-\tvital information to help the user understand what’s been done to the data and the limitations of the data\n",
    "•\tPUNCH Data Policy  \n",
    "•\tContact"
   ]
  },
  {
   "cell_type": "code",
   "execution_count": 4,
   "metadata": {},
   "outputs": [
    {
     "data": {
      "text/plain": [
       "373.0"
      ]
     },
     "execution_count": 4,
     "metadata": {},
     "output_type": "execute_result"
    }
   ],
   "source": [
    "1492/4"
   ]
  },
  {
   "cell_type": "code",
   "execution_count": null,
   "metadata": {},
   "outputs": [],
   "source": []
  }
 ],
 "metadata": {
  "kernelspec": {
   "display_name": "Python 3",
   "language": "python",
   "name": "python3"
  },
  "language_info": {
   "codemirror_mode": {
    "name": "ipython",
    "version": 3
   },
   "file_extension": ".py",
   "mimetype": "text/x-python",
   "name": "python",
   "nbconvert_exporter": "python",
   "pygments_lexer": "ipython3",
   "version": "3.6.7"
  }
 },
 "nbformat": 4,
 "nbformat_minor": 2
}
